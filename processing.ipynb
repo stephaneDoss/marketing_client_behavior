{
 "cells": [
  {
   "cell_type": "code",
   "execution_count": 1,
   "metadata": {},
   "outputs": [],
   "source": [
    "import pandas as pd\n",
    "from sklearn.preprocessing import StandardScaler\n",
    "from sklearn.cluster import KMeans\n",
    "import matplotlib.pyplot as plt\n",
    "import io\n",
    "\n",
    "# import seaborn as sns"
   ]
  },
  {
   "cell_type": "code",
   "execution_count": 9,
   "metadata": {},
   "outputs": [],
   "source": [
    "def check_data(df, expected_columns, expected_dtypes):\n",
    "    assert set(df.columns) == set(\n",
    "        expected_columns), \"Les colonnes ne correspondent pas aux attentes.\"\n",
    "    for col, dtype in expected_dtypes.items():\n",
    "        assert df[col].dtype == dtype, f\"Le type de données pour {col} n'est pas {dtype}.\"\n",
    "\n",
    "\n",
    "# Vérifier les colonnes et les types de données après transformation\n",
    "expected_columns = ['CustomerID','Recency','Frequency','Monetary']\n",
    "expected_dtypes = {\n",
    "    'CustomerID': 'float64',\n",
    "    'Recency': 'int64',\n",
    "    'Frequency': 'int64',\n",
    "    'Monetary': 'float64'\n",
    "}"
   ]
  },
  {
   "cell_type": "markdown",
   "metadata": {},
   "source": [
    "# Extraction des Données"
   ]
  },
  {
   "cell_type": "code",
   "execution_count": 8,
   "metadata": {},
   "outputs": [
    {
     "name": "stdout",
     "output_type": "stream",
     "text": [
      "  InvoiceNo StockCode                          Description  Quantity  \\\n",
      "0    536365    85123A   WHITE HANGING HEART T-LIGHT HOLDER         6   \n",
      "1    536365     71053                  WHITE METAL LANTERN         6   \n",
      "2    536365    84406B       CREAM CUPID HEARTS COAT HANGER         8   \n",
      "3    536365    84029G  KNITTED UNION FLAG HOT WATER BOTTLE         6   \n",
      "4    536365    84029E       RED WOOLLY HOTTIE WHITE HEART.         6   \n",
      "\n",
      "          InvoiceDate  UnitPrice  CustomerID         Country  \n",
      "0 2010-12-01 08:26:00       2.55     17850.0  United Kingdom  \n",
      "1 2010-12-01 08:26:00       3.39     17850.0  United Kingdom  \n",
      "2 2010-12-01 08:26:00       2.75     17850.0  United Kingdom  \n",
      "3 2010-12-01 08:26:00       3.39     17850.0  United Kingdom  \n",
      "4 2010-12-01 08:26:00       3.39     17850.0  United Kingdom  \n",
      "InvoiceNo              object\n",
      "StockCode              object\n",
      "Description            object\n",
      "Quantity                int64\n",
      "InvoiceDate    datetime64[ns]\n",
      "UnitPrice             float64\n",
      "CustomerID            float64\n",
      "Country                object\n",
      "dtype: object\n"
     ]
    }
   ],
   "source": [
    "# Chemin vers le fichier Excel\n",
    "file_path = 'Online Retail.xlsx'\n",
    "# Chargement du fichier Excel dans un DataFrame\n",
    "with io.open(file_path, 'r', encoding='utf-8') as f:\n",
    "    try:\n",
    "        df = pd.read_excel(file_path, engine='openpyxl')\n",
    "        # Affichez les premières lignes pour vérifier si le chargement s'est bien déroulé\n",
    "        print(df.head())\n",
    "        # Afficher les types de données de chaque colonne\n",
    "        print(df.dtypes)\n",
    "    except Exception as e:\n",
    "        print(f\"Erreur lors de la lecture du fichier Excel : {e}\")\n",
    "# Affichage des premières lignes du DataFrame\n",
    "#print(df.head())"
   ]
  },
  {
   "cell_type": "markdown",
   "metadata": {},
   "source": [
    "### Nettoyage des données\n",
    "soustraction des valeurs négatives de la colonne Quantity"
   ]
  },
  {
   "cell_type": "code",
   "execution_count": 4,
   "metadata": {},
   "outputs": [],
   "source": [
    "# Extraction des lignes avec des quantités positives\n",
    "positive_quantities = df[df['Quantity'] >= 0]\n",
    "\n",
    "# Suppression des colonnes inutiles\n",
    "positive_quantities = positive_quantities.drop(\n",
    "    columns=['StockCode', 'Description', 'Country'])\n",
    "\n",
    "# Exportation des données dans un fichier CSV\n",
    "positive_quantities.to_csv('positive_quantities.csv', index=False)"
   ]
  },
  {
   "cell_type": "markdown",
   "metadata": {},
   "source": [
    "# Transformation des données\n",
    "Création d'un nouveau dataframe issus de regroupement par client avec la récence, la somme des dépenses par client et la fréquence d'achat par client en fonction de la date de référence."
   ]
  },
  {
   "cell_type": "code",
   "execution_count": 10,
   "metadata": {},
   "outputs": [
    {
     "name": "stdout",
     "output_type": "stream",
     "text": [
      "   CustomerID  Recency  Frequency  Monetary\n",
      "0     12346.0      -49          1  77183.60\n",
      "1     12347.0     -372          7   4310.00\n",
      "2     12348.0     -299          4   1797.24\n",
      "3     12349.0     -356          1   1757.55\n",
      "4     12350.0      -64          1    334.40\n"
     ]
    }
   ],
   "source": [
    "# Formatage de la colonne InvoiceDate en datetime\n",
    "positive_quantities['InvoiceDate'] = pd.to_datetime(\n",
    "    positive_quantities['InvoiceDate'])\n",
    "\n",
    "# Calculer le montant total par transaction\n",
    "positive_quantities['TotalPrice'] = positive_quantities['UnitPrice'] * \\\n",
    "    positive_quantities['Quantity']\n",
    "\n",
    "# Calcul de la récence, fréquence et montant\n",
    "reference_date = pd.to_datetime('2010-12-01')\n",
    "# Calculer la récence\n",
    "recency = positive_quantities.groupby('CustomerID').agg({\n",
    "    'InvoiceDate': lambda x: (reference_date - x.max()).days\n",
    "}).rename(columns={'InvoiceDate': 'Recency'})\n",
    "# Calculer la fréquence\n",
    "frequency = positive_quantities.groupby('CustomerID').agg({\n",
    "    'InvoiceDate': 'nunique'\n",
    "}).rename(columns={'InvoiceDate': 'Frequency'})\n",
    "# Calculer le montant\n",
    "monetary = positive_quantities.groupby('CustomerID').agg({\n",
    "    'TotalPrice': 'sum'\n",
    "}).rename(columns={'TotalPrice': 'Monetary'})\n",
    "# Combiner les trois métriques en un seul DataFrame\n",
    "rfm = recency.join(frequency).join(monetary).reset_index()\n",
    "\n",
    "# Verification des données\n",
    "check_data(rfm, expected_columns, expected_dtypes)\n",
    "\n",
    "# Affichage des premières lignes du DataFrame\n",
    "print(rfm.head())"
   ]
  },
  {
   "cell_type": "markdown",
   "metadata": {},
   "source": [
    "### Utilisation du machine learning pour segmenter les clients (k-mean)"
   ]
  },
  {
   "cell_type": "code",
   "execution_count": 11,
   "metadata": {},
   "outputs": [
    {
     "name": "stderr",
     "output_type": "stream",
     "text": [
      "Exception in thread Thread-34 (_readerthread):\n",
      "Traceback (most recent call last):\n",
      "  File \"C:\\Program Files\\WindowsApps\\PythonSoftwareFoundation.Python.3.11_3.11.2544.0_x64__qbz5n2kfra8p0\\Lib\\threading.py\", line 1045, in _bootstrap_inner\n",
      "    self.run()\n",
      "  File \"C:\\Program Files\\WindowsApps\\PythonSoftwareFoundation.Python.3.11_3.11.2544.0_x64__qbz5n2kfra8p0\\Lib\\threading.py\", line 982, in run\n",
      "    self._target(*self._args, **self._kwargs)\n",
      "  File \"C:\\Program Files\\WindowsApps\\PythonSoftwareFoundation.Python.3.11_3.11.2544.0_x64__qbz5n2kfra8p0\\Lib\\subprocess.py\", line 1599, in _readerthread\n",
      "    buffer.append(fh.read())\n",
      "                  ^^^^^^^^^\n",
      "  File \"C:\\Program Files\\WindowsApps\\PythonSoftwareFoundation.Python.3.11_3.11.2544.0_x64__qbz5n2kfra8p0\\Lib\\encodings\\cp1252.py\", line 23, in decode\n",
      "    return codecs.charmap_decode(input,self.errors,decoding_table)[0]\n",
      "           ^^^^^^^^^^^^^^^^^^^^^^^^^^^^^^^^^^^^^^^^^^^^^^^^^^^^^^^\n",
      "UnicodeDecodeError: 'charmap' codec can't decode byte 0x90 in position 34: character maps to <undefined>\n",
      "C:\\Users\\steph\\AppData\\Local\\Packages\\PythonSoftwareFoundation.Python.3.11_qbz5n2kfra8p0\\LocalCache\\local-packages\\Python311\\site-packages\\joblib\\externals\\loky\\backend\\context.py:136: UserWarning: Could not find the number of physical cores for the following reason:\n",
      "'NoneType' object has no attribute 'splitlines'\n",
      "Returning the number of logical cores instead. You can silence this warning by setting LOKY_MAX_CPU_COUNT to the number of cores you want to use.\n",
      "  warnings.warn(\n",
      "  File \"C:\\Users\\steph\\AppData\\Local\\Packages\\PythonSoftwareFoundation.Python.3.11_qbz5n2kfra8p0\\LocalCache\\local-packages\\Python311\\site-packages\\joblib\\externals\\loky\\backend\\context.py\", line 262, in _count_physical_cores\n",
      "    cpu_info = cpu_info.stdout.splitlines()\n",
      "               ^^^^^^^^^^^^^^^^^^^^^^^^^^\n"
     ]
    },
    {
     "data": {
      "image/png": "[encoded data removed]",
      "text/plain": [
       "<Figure size 1000x600 with 1 Axes>"
      ]
     },
     "metadata": {},
     "output_type": "display_data"
    }
   ],
   "source": [
    "# Préparer les données pour le clustering\n",
    "rfm_data = rfm[['Recency', 'Frequency', 'Monetary']]\n",
    "# Standardiser les données\n",
    "scaler = StandardScaler()\n",
    "rfm_scaled = scaler.fit_transform(rfm_data)\n",
    "# Appliquer K-means avec le nombre optimal de clusters\n",
    "optimal_clusters = 5\n",
    "# Initialiser K-means\n",
    "kmeans = KMeans(n_clusters=optimal_clusters, random_state=42)\n",
    "# Prédire les clusters\n",
    "rfm['Cluster'] = kmeans.fit_predict(rfm_scaled)\n",
    "# Mapper les numéros de clusters aux noms significatifs\n",
    "cluster_names = {\n",
    "    0: 'Champions',\n",
    "    1: 'Clients Fidèles',\n",
    "    2: 'Grands Dépenseurs',\n",
    "    3: 'Clients potentiellement fidèles'\n",
    "}\n",
    "# Appliquer le mapping des noms aux clusters\n",
    "rfm['Cluster Name'] = rfm['Cluster'].map(cluster_names)\n",
    "print(rfm.head())\n",
    "# Exporter les données avec les clusters\n",
    "rfm.to_csv('rfm_online_retail.csv', index=False)\n",
    "\n",
    "# Afficher les statistiques des clusters\n",
    "cluster_aggregates = rfm.groupby('Cluster Name').agg({\n",
    "    'Recency': 'mean',\n",
    "    'Frequency': 'mean',\n",
    "    'Monetary': 'mean',\n",
    "}).reset_index()\n",
    "# Afficher les résultats de l'analyse des clusters\n",
    "print(cluster_aggregates)\n",
    "# Exporter les résultats de l'analyse des clusters\n",
    "cluster_aggregates.to_csv('cluster_aggregates_online_retail.csv', index=False)"
   ]
  },
  {
   "cell_type": "code",
   "execution_count": 12,
   "metadata": {},
   "outputs": [
    {
     "name": "stdout",
     "output_type": "stream",
     "text": [
      "   CustomerID  Recency  Frequency  Monetary  Cluster        Cluster Name\n",
      "0     12346.0      -49          1  77183.60        0           Champions\n",
      "1     12347.0     -372          7   4310.00        3  Clients Potentiels\n",
      "2     12348.0     -299          4   1797.24        3  Clients Potentiels\n",
      "3     12349.0     -356          1   1757.55        3  Clients Potentiels\n",
      "4     12350.0      -64          1    334.40        1     Clients Fidèles\n",
      "         Cluster Name     Recency  Frequency       Monetary\n",
      "0           Champions -359.166667  21.861905   12444.119905\n",
      "1     Clients Fidèles -125.826579   1.551367     478.194732\n",
      "2  Clients Potentiels -330.512275   3.647463    1353.643219\n",
      "3   Grands Dépenseurs -367.384615  81.846154  127338.313846\n"
     ]
    }
   ],
   "source": []
  },
  {
   "cell_type": "code",
   "execution_count": 13,
   "metadata": {},
   "outputs": [
    {
     "name": "stdout",
     "output_type": "stream",
     "text": [
      "         Cluster Name     Recency  Frequency       Monetary\n",
      "3   Grands Dépenseurs -367.384615  81.846154  127338.313846\n",
      "0           Champions -359.166667  21.861905   12444.119905\n",
      "2  Clients Potentiels -330.512275   3.647463    1353.643219\n",
      "1     Clients Fidèles -125.826579   1.551367     478.194732\n"
     ]
    }
   ],
   "source": [
    "cluster_aggregates = cluster_aggregates.sort_values(\n",
    "    by='Monetary', ascending=False)\n",
    "print(cluster_aggregates)"
   ]
  }
 ],
 "metadata": {
  "kernelspec": {
   "display_name": "Python 3",
   "language": "python",
   "name": "python3"
  },
  "language_info": {
   "codemirror_mode": {
    "name": "ipython",
    "version": 3
   },
   "file_extension": ".py",
   "mimetype": "text/x-python",
   "name": "python",
   "nbconvert_exporter": "python",
   "pygments_lexer": "ipython3",
   "version": "3.11.9"
  }
 },
 "nbformat": 4,
 "nbformat_minor": 2
}
